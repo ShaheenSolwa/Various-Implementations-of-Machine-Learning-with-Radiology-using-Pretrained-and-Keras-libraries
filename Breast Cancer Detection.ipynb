{
 "cells": [
  {
   "cell_type": "code",
   "execution_count": 1,
   "metadata": {},
   "outputs": [],
   "source": [
    "from tensorflow.keras.layers import Dense, Flatten, GlobalAveragePooling2D, BatchNormalization, Dropout,AveragePooling2D\n",
    "import tensorflow as tf\n",
    "from tensorflow.keras.applications import DenseNet201\n",
    "from tensorflow.keras.models import Model\n",
    "from tensorflow.keras.models import Sequential\n",
    "from tensorflow.keras.regularizers import *\n",
    "from tensorflow import keras\n",
    "from tensorflow.keras import layers\n",
    "\n",
    "def download_model():\n",
    "    model = Sequential()\n",
    "\n",
    "    conv_base = DenseNet201(input_shape=(224,224,3), include_top=False, pooling='max',weights='imagenet')\n",
    "    model.add(conv_base)\n",
    "    model.add(BatchNormalization())\n",
    "    model.add(Dense(2048, activation='relu', kernel_regularizer=l1_l2(0.01)))\n",
    "    model.add(BatchNormalization())\n",
    "    model.add(Dense(8, activation='softmax'))\n",
    "\n",
    "    train_layers = [layer for layer in conv_base.layers[::-1][:5]]\n",
    "\n",
    "    for layer in conv_base.layers:\n",
    "        if layer in train_layers:\n",
    "            layer.trainable = True\n",
    "    model.save(\"model/model.h5\")"
   ]
  },
  {
   "cell_type": "code",
   "execution_count": 2,
   "metadata": {},
   "outputs": [],
   "source": [
    "def load_model():\n",
    "    download_model()\n",
    "    model=tf.keras.models.load_model(\"model/model.h5\", compile=False)\n",
    "    model.compile(optimizer =tf.keras.optimizers.Adam(learning_rate=0.00001,decay=0.0001),metrics=[\"accuracy\"],\n",
    "                  loss= tf.keras.losses.CategoricalCrossentropy(label_smoothing=0.1))\n",
    "    model.load_weights(\"C:/Users/shahe/Desktop/MED-SMART STARTUP PLAN/models/mammography.h5\")\n",
    "    return model"
   ]
  },
  {
   "cell_type": "code",
   "execution_count": 3,
   "metadata": {},
   "outputs": [],
   "source": [
    "model = load_model()"
   ]
  },
  {
   "cell_type": "code",
   "execution_count": 4,
   "metadata": {},
   "outputs": [
    {
     "data": {
      "text/plain": [
       "{'Benign with Density=1': 0.015827601775527,\n",
       " 'Malignant with Density=1': 0.04457152262330055,\n",
       " 'Benign with Density=2': 0.013294555246829987,\n",
       " 'Malignant with Density=2': 0.819430410861969,\n",
       " 'Benign with Density=3': 0.022421279922127724,\n",
       " 'Malignant with Density=3': 0.014057686552405357,\n",
       " 'Benign with Density=4': 0.0494217686355114,\n",
       " 'Malignant with Density=4': 0.0209752656519413}"
      ]
     },
     "execution_count": 4,
     "metadata": {},
     "output_type": "execute_result"
    }
   ],
   "source": [
    "import numpy as np \n",
    "from numpy import asarray\n",
    "import cv2\n",
    "\n",
    "class_name=['Benign with Density=1','Malignant with Density=1',\n",
    "            'Benign with Density=2','Malignant with Density=2',\n",
    "            'Benign with Density=3','Malignant with Density=3',\n",
    "            'Benign with Density=4','Malignant with Density=4']\n",
    "  \n",
    "\n",
    "def preprocess(image):\n",
    "    kernel = np.array([[0,-1,0], [-1,5,-1], [0,-1,0]])\n",
    "    im = cv2.filter2D(image, -1, kernel)\n",
    "    return im\n",
    "\n",
    "def predict_img(img):\n",
    "    img=preprocess(img)\n",
    "    img=img/255.0\n",
    "    im=img.reshape(-1,224,224,3)\n",
    "    pred=model.predict(im)[0]\n",
    "    return {class_name[i]:float(pred[i]) for i in range(8)}\n",
    "\n",
    "img = \"C:/Users/shahe/Desktop/mammography/test/Image_25.jpg\"\n",
    "from PIL import Image\n",
    "image = Image.open(img)\n",
    "data = asarray(image)\n",
    "\n",
    "predict_img(data)"
   ]
  },
  {
   "cell_type": "code",
   "execution_count": null,
   "metadata": {},
   "outputs": [],
   "source": []
  }
 ],
 "metadata": {
  "kernelspec": {
   "display_name": "Python 3",
   "language": "python",
   "name": "python3"
  },
  "language_info": {
   "codemirror_mode": {
    "name": "ipython",
    "version": 3
   },
   "file_extension": ".py",
   "mimetype": "text/x-python",
   "name": "python",
   "nbconvert_exporter": "python",
   "pygments_lexer": "ipython3",
   "version": "3.7.1"
  }
 },
 "nbformat": 4,
 "nbformat_minor": 2
}
