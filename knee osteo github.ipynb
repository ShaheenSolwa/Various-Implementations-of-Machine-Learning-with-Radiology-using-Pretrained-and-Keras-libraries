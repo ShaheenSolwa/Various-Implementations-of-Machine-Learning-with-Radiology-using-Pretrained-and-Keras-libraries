{
 "cells": [
  {
   "cell_type": "code",
   "execution_count": 1,
   "metadata": {},
   "outputs": [],
   "source": [
    "import tensorflow as tf\n",
    "from tensorflow import keras\n",
    "from tensorflow.keras.models import Model, load_model\n",
    "from tensorflow.keras.layers import Input\n",
    "#from keras.utils.vis_utils import plot_model\n",
    "from tensorflow.keras import layers, preprocessing, callbacks\n",
    "from tensorflow.keras.callbacks import EarlyStopping, ReduceLROnPlateau\n",
    "from tensorflow.keras.models import Sequential\n",
    "import matplotlib.pyplot as plt\n",
    "from tensorflow.keras.applications import VGG19\n",
    "from tensorflow.keras.preprocessing import image\n",
    "from tensorflow.keras.applications.vgg19 import preprocess_input\n",
    "import numpy as np"
   ]
  },
  {
   "cell_type": "code",
   "execution_count": 3,
   "metadata": {},
   "outputs": [],
   "source": [
    "# Define model\n",
    "base = VGG19(weights='imagenet', include_top=False,input_tensor=Input(shape=(150, 150, 3)))\n",
    "\n",
    "\n",
    "# Take output from pre-trained and put through custom classifier\n",
    "x = base.output\n",
    "x = tf.keras.layers.GlobalMaxPooling2D()(x)\n",
    "x =tf.keras.layers.Dense(1024, activation='relu')(x)\n",
    "x =tf.keras.layers.Dense(512, activation='relu')(x)\n",
    "x =tf.keras.layers.Dense(64, activation='relu')(x)\n",
    "output = tf.keras.layers.Dense(5, activation='softmax')(x) #OUtput is an array of probabilities 0-1\n",
    "\n",
    "model = Model(inputs=base.input, outputs=output)\n",
    "for layer in model.layers[:11]:\n",
    "    layer.trainable = False\n",
    "for layer in model.layers[11:]:\n",
    "    layer.trainable = True\n",
    "\n",
    "# we need to recompile the model for these modifications to take effect\n",
    "# we use SGD with a low learning rate\n",
    "from tensorflow.keras.optimizers import SGD, Adam\n",
    "model.compile(optimizer=SGD(learning_rate=0.001), loss='categorical_crossentropy', metrics=['acc'])"
   ]
  },
  {
   "cell_type": "code",
   "execution_count": 4,
   "metadata": {},
   "outputs": [],
   "source": [
    "Model = keras.models.load_model('C:/Users/shahe/Desktop/VGG19 Final.h5')"
   ]
  },
  {
   "cell_type": "code",
   "execution_count": 12,
   "metadata": {},
   "outputs": [
    {
     "name": "stdout",
     "output_type": "stream",
     "text": [
      "3\n"
     ]
    }
   ],
   "source": [
    "from tensorflow.keras.preprocessing import image\n",
    "from tensorflow.keras.applications.vgg19 import preprocess_input\n",
    "import numpy as np\n",
    "img = image.load_img('C:/Users/shahe/Desktop/Knee Osteoarthritis/test/3/9066155R.png', target_size=(150,150))\n",
    "x = image.img_to_array(img)\n",
    "x = np.expand_dims(x, axis = 0)\n",
    "x_processed = preprocess_input(x)\n",
    "print(np.argmax(Model.predict(x_processed)))"
   ]
  },
  {
   "cell_type": "code",
   "execution_count": 2,
   "metadata": {},
   "outputs": [
    {
     "name": "stdout",
     "output_type": "stream",
     "text": [
      "[[0. 0. 0. 1. 0.]]\n"
     ]
    }
   ],
   "source": [
    "def load_knee_Model():\n",
    "    base = VGG19(weights='imagenet', include_top=False,input_tensor=Input(shape=(150, 150, 3)))\n",
    "\n",
    "    # Take output from pre-trained and put through custom classifier\n",
    "    x = base.output\n",
    "    x = tf.keras.layers.GlobalMaxPooling2D()(x)\n",
    "    x =tf.keras.layers.Dense(1024, activation='relu')(x)\n",
    "    x =tf.keras.layers.Dense(512, activation='relu')(x)\n",
    "    x =tf.keras.layers.Dense(64, activation='relu')(x)\n",
    "    output = tf.keras.layers.Dense(5, activation='softmax')(x) #OUtput is an array of probabilities 0-1\n",
    "\n",
    "    model = Model(inputs=base.input, outputs=output)\n",
    "    for layer in model.layers[:11]:\n",
    "        layer.trainable = False\n",
    "    for layer in model.layers[11:]:\n",
    "        layer.trainable = True\n",
    "\n",
    "    # we need to recompile the model for these modifications to take effect\n",
    "    # we use SGD with a low learning rate\n",
    "    from tensorflow.keras.optimizers import SGD, Adam\n",
    "    model.compile(optimizer=SGD(learning_rate=0.001), loss='categorical_crossentropy', metrics=['acc'])\n",
    "    model = keras.models.load_model('C:/Users/shahe/Desktop/VGG19 Final.h5')\n",
    "    return model\n",
    "\n",
    "def knee_predict(x):\n",
    "    model = load_knee_Model()\n",
    "    img = image.load_img(x, target_size=(150,150))\n",
    "    x = image.img_to_array(img)\n",
    "    x = np.expand_dims(x, axis = 0)\n",
    "    x_processed = preprocess_input(x)\n",
    "    return model.predict(x_processed)\n",
    "\n",
    "print(knee_predict('C:/Users/shahe/Desktop/Knee Osteoarthritis/test/3/9066155R.png'))"
   ]
  },
  {
   "cell_type": "code",
   "execution_count": null,
   "metadata": {},
   "outputs": [],
   "source": []
  }
 ],
 "metadata": {
  "kernelspec": {
   "display_name": "Python 3",
   "language": "python",
   "name": "python3"
  },
  "language_info": {
   "codemirror_mode": {
    "name": "ipython",
    "version": 3
   },
   "file_extension": ".py",
   "mimetype": "text/x-python",
   "name": "python",
   "nbconvert_exporter": "python",
   "pygments_lexer": "ipython3",
   "version": "3.7.1"
  }
 },
 "nbformat": 4,
 "nbformat_minor": 2
}
